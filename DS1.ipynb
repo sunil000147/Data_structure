{
 "cells": [
  {
   "cell_type": "code",
   "execution_count": 5,
   "id": "be764fc6-a1a0-41b8-b3b7-338133be3320",
   "metadata": {},
   "outputs": [
    {
     "name": "stdout",
     "output_type": "stream",
     "text": [
      "[0, 1]\n"
     ]
    }
   ],
   "source": [
    "\n",
    "'''Q1.** Given an array of integers nums and an integer target, return indices of the two numbers such that they add up to target.\n",
    "\n",
    "You may assume that each input would have exactly one solution, and you may not use the same element twice.\n",
    "\n",
    "You can return the answer in any order.\n",
    "\n",
    "**Example:**\n",
    "Input: nums = [2,7,11,15], target = 9\n",
    "Output0 [0,1]\n",
    "\n",
    "**Explanation:** Because nums[0] + nums[1] == 9, we return [0, 1]'''\n",
    "\n",
    "def two_sum(nums, target):\n",
    "    # Create a dictionary to store the complement of each number and its index\n",
    "    complement_dict = {}\n",
    "    \n",
    "    # Iterate through the array\n",
    "    for i, num in enumerate(nums):\n",
    "        # Calculate the complement for the current number\n",
    "        complement = target - num\n",
    "        \n",
    "        # Check if the complement exists in the dictionary\n",
    "        if complement in complement_dict:\n",
    "            # Return the indices of the current number and its complement\n",
    "            return [complement_dict[complement], i]\n",
    "        \n",
    "        # Add the current number and its index to the dictionary\n",
    "        complement_dict[num] = i\n",
    "    \n",
    "    # No solution found, return an empty list\n",
    "    return []\n",
    "\n",
    "nums = [2, 7, 11, 15]\n",
    "target = 9\n",
    "\n",
    "result = two_sum(nums, target)\n",
    "print(result)  # Output: [0, 1]\n",
    "\n"
   ]
  },
  {
   "cell_type": "code",
   "execution_count": 7,
   "id": "fb01ff7a-9507-4671-8f96-b38e00a007f0",
   "metadata": {},
   "outputs": [
    {
     "name": "stdout",
     "output_type": "stream",
     "text": [
      "2\n",
      "[2, 2, 2, 3]\n"
     ]
    }
   ],
   "source": [
    "'''Q2.** Given an integer array nums and an integer val, remove all occurrences of val in nums in-place. The order of the elements may be changed. Then return the number of elements in nums which are not equal to val.\n",
    "\n",
    "Consider the number of elements in nums which are not equal to val be k, to get accepted, you need to do the following things:\n",
    "\n",
    "- Change the array nums such that the first k elements of nums contain the elements which are not equal to val. The remaining elements of nums are not important as well as the size of nums.\n",
    "- Return k.\n",
    "\n",
    "**Example :**\n",
    "Input: nums = [3,2,2,3], val = 3\n",
    "Output: 2, nums = [2,2,_*,_*]\n",
    "\n",
    "**Explanation:** Your function should return k = 2, with the first two elements of nums being 2. It does not matter what you leave beyond the returned k (hence they are underscores)'''\n",
    "\n",
    "def remove_element(nums, val):\n",
    "    # Initialize two pointers\n",
    "    i = 0  # Slow pointer\n",
    "    j = 0  # Fast pointer\n",
    "    \n",
    "    # Iterate through the array\n",
    "    while j < len(nums):\n",
    "        # If the current element is not equal to val\n",
    "        if nums[j] != val:\n",
    "            # Move the element to the slow pointer position\n",
    "            nums[i] = nums[j]\n",
    "            i += 1\n",
    "        \n",
    "        # Move the fast pointer to the next element\n",
    "        j += 1\n",
    "    \n",
    "    # Return the count of remaining elements\n",
    "    return i\n",
    "nums = [3, 2, 2, 3]\n",
    "val = 3\n",
    "\n",
    "result = remove_element(nums, val)\n",
    "print(result)  # Output: 2\n",
    "print(nums)    # Output: [2, 2, _, _]\n"
   ]
  },
  {
   "cell_type": "code",
   "execution_count": 9,
   "id": "acce3e56-0ba5-4d2a-a5a6-da10977b30a6",
   "metadata": {},
   "outputs": [
    {
     "name": "stdout",
     "output_type": "stream",
     "text": [
      "2\n"
     ]
    }
   ],
   "source": [
    "'''Q3.** Given a sorted array of distinct integers and a target value, return the index if the target is found. If not, return the index where it would be if it were inserted in order.\n",
    "\n",
    "You must write an algorithm with O(log n) runtime complexity.\n",
    "\n",
    "**Example 1:**\n",
    "Input: nums = [1,3,5,6], target = 5\n",
    "\n",
    "Output: 2\n",
    "'''\n",
    "def search_insert(nums, target):\n",
    "    left = 0\n",
    "    right = len(nums) - 1\n",
    "    \n",
    "    while left <= right:\n",
    "        mid = left + (right - left) // 2\n",
    "        \n",
    "        if nums[mid] == target:\n",
    "            return mid\n",
    "        \n",
    "        if nums[mid] < target:\n",
    "            left = mid + 1\n",
    "        else:\n",
    "            right = mid - 1\n",
    "    \n",
    "    return left\n",
    "nums = [1, 3, 5, 6]\n",
    "target = 5\n",
    "\n",
    "result = search_insert(nums, target)\n",
    "print(result)  # Output: 2\n"
   ]
  },
  {
   "cell_type": "code",
   "execution_count": 10,
   "id": "743b527f-6543-4fb4-90a3-113afd609ce0",
   "metadata": {},
   "outputs": [
    {
     "name": "stdout",
     "output_type": "stream",
     "text": [
      "[1, 2, 4]\n"
     ]
    }
   ],
   "source": [
    "'''Q4.** You are given a large integer represented as an integer array digits, where each digits[i] is the ith digit of the integer. The digits are ordered from most significant to least significant in left-to-right order. The large integer does not contain any leading 0's.\n",
    "\n",
    "Increment the large integer by one and return the resulting array of digits.\n",
    "\n",
    "**Example 1:**\n",
    "Input: digits = [1,2,3]\n",
    "Output: [1,2,4]\n",
    "\n",
    "**Explanation:** The array represents the integer 123.\n",
    "\n",
    "Incrementing by one gives 123 + 1 = 124.\n",
    "Thus, the result should be [1,2,4].'''\n",
    "\n",
    "def plus_one(digits):\n",
    "    n = len(digits)\n",
    "    \n",
    "    # Iterate from the rightmost digit to the left\n",
    "    for i in range(n - 1, -1, -1):\n",
    "        # Increment the current digit by one\n",
    "        digits[i] += 1\n",
    "        \n",
    "        # Check if there is a carry\n",
    "        if digits[i] < 10:\n",
    "            # No carry, so we're done\n",
    "            return digits\n",
    "        \n",
    "        # There is a carry, set the current digit to 0\n",
    "        digits[i] = 0\n",
    "    \n",
    "    # If we reach this point, it means there is a carry from the leftmost digit\n",
    "    # Create a new array with one extra digit\n",
    "    new_digits = [0] * (n + 1)\n",
    "    new_digits[0] = 1\n",
    "    \n",
    "    return new_digits\n",
    "digits = [1, 2, 3]\n",
    "\n",
    "result = plus_one(digits)\n",
    "print(result)  # Output: [1, 2, 4]\n"
   ]
  },
  {
   "cell_type": "code",
   "execution_count": 11,
   "id": "4e4e391e-c20b-4d9b-8bd3-c449187a9952",
   "metadata": {},
   "outputs": [
    {
     "name": "stdout",
     "output_type": "stream",
     "text": [
      "[1, 2, 2, 3, 5, 6]\n"
     ]
    }
   ],
   "source": [
    "'''Q5.** You are given two integer arrays nums1 and nums2, sorted in non-decreasing order, and two integers m and n, representing the number of elements in nums1 and nums2 respectively.\n",
    "\n",
    "Merge nums1 and nums2 into a single array sorted in non-decreasing order.\n",
    "\n",
    "The final sorted array should not be returned by the function, but instead be stored inside the array nums1. To accommodate this, nums1 has a length of m + n, where the first m elements denote the elements that should be merged, and the last n elements are set to 0 and should be ignored. nums2 has a length of n.\n",
    "\n",
    "**Example 1:**\n",
    "Input: nums1 = [1,2,3,0,0,0], m = 3, nums2 = [2,5,6], n = 3\n",
    "Output: [1,2,2,3,5,6]\n",
    "\n",
    "**Explanation:** The arrays we are merging are [1,2,3] and [2,5,6].\n",
    "The result of the merge is [1,2,2,3,5,6] with the underlined elements coming from nums1.'''\n",
    "\n",
    "def merge(nums1, m, nums2, n):\n",
    "    i = m - 1  # Pointer for nums1\n",
    "    j = n - 1  # Pointer for nums2\n",
    "    k = m + n - 1  # Pointer for the merged array\n",
    "    \n",
    "    # Merge nums1 and nums2 from the end\n",
    "    while i >= 0 and j >= 0:\n",
    "        if nums1[i] >= nums2[j]:\n",
    "            nums1[k] = nums1[i]\n",
    "            i -= 1\n",
    "        else:\n",
    "            nums1[k] = nums2[j]\n",
    "            j -= 1\n",
    "        k -= 1\n",
    "    \n",
    "    # If there are remaining elements in nums2, copy them to nums1\n",
    "    while j >= 0:\n",
    "        nums1[k] = nums2[j]\n",
    "        j -= 1\n",
    "        k -= 1\n",
    "nums1 = [1, 2, 3, 0, 0, 0]\n",
    "m = 3\n",
    "nums2 = [2, 5, 6]\n",
    "n = 3\n",
    "\n",
    "merge(nums1, m, nums2, n)\n",
    "print(nums1)  # Output: [1, 2, 2, 3, 5, 6]\n"
   ]
  },
  {
   "cell_type": "code",
   "execution_count": 12,
   "id": "b90b810c-3b57-4657-95a0-adf831d62c86",
   "metadata": {},
   "outputs": [
    {
     "name": "stdout",
     "output_type": "stream",
     "text": [
      "True\n"
     ]
    }
   ],
   "source": [
    "'''Q6.** Given an integer array nums, return true if any value appears at least twice in the array, and return false if every element is distinct.\n",
    "\n",
    "**Example 1:**\n",
    "Input: nums = [1,2,3,1]\n",
    "\n",
    "Output: true'''\n",
    "\n",
    "def contains_duplicate(nums):\n",
    "    unique_set = set()\n",
    "    \n",
    "    for num in nums:\n",
    "        if num in unique_set:\n",
    "            return True\n",
    "        unique_set.add(num)\n",
    "    \n",
    "    return False\n",
    "nums = [1, 2, 3, 1]\n",
    "\n",
    "result = contains_duplicate(nums)\n",
    "print(result)  # Output: True\n"
   ]
  },
  {
   "cell_type": "code",
   "execution_count": 13,
   "id": "eafa4147-288c-416d-acf3-def7c91b5498",
   "metadata": {},
   "outputs": [
    {
     "name": "stdout",
     "output_type": "stream",
     "text": [
      "[1, 3, 12, 0, 0]\n"
     ]
    }
   ],
   "source": [
    "'''Q7.** Given an integer array nums, move all 0's to the end of it while maintaining the relative order of the nonzero elements.\n",
    "\n",
    "Note that you must do this in-place without making a copy of the array.\n",
    "\n",
    "**Example 1:**\n",
    "Input: nums = [0,1,0,3,12]\n",
    "Output: [1,3,12,0,0]'''\n",
    "\n",
    "def move_zeroes(nums):\n",
    "    n = len(nums)\n",
    "    j = 0  # Pointer for the next non-zero element\n",
    "    \n",
    "    # Iterate through the array\n",
    "    for i in range(n):\n",
    "        # If the current element is non-zero\n",
    "        if nums[i] != 0:\n",
    "            # Move the non-zero element to the next available position\n",
    "            nums[j] = nums[i]\n",
    "            j += 1\n",
    "    \n",
    "    # Fill the remaining positions with zeros\n",
    "    for i in range(j, n):\n",
    "        nums[i] = 0\n",
    "        \n",
    "nums = [0, 1, 0, 3, 12]\n",
    "\n",
    "move_zeroes(nums)\n",
    "print(nums)  # Output: [1, 3, 12, 0, 0]\n",
    "\n"
   ]
  },
  {
   "cell_type": "code",
   "execution_count": 14,
   "id": "05268d47-8218-40bc-8368-11ccf56a92d0",
   "metadata": {},
   "outputs": [
    {
     "name": "stdout",
     "output_type": "stream",
     "text": [
      "[2, 3]\n"
     ]
    }
   ],
   "source": [
    "'''Q8.** You have a set of integers s, which originally contains all the numbers from 1 to n. Unfortunately, due to some error, one of the numbers in s got duplicated to another number in the set, which results in repetition of one number and loss of another number.\n",
    "\n",
    "You are given an integer array nums representing the data status of this set after the error.\n",
    "\n",
    "Find the number that occurs twice and the number that is missing and return them in the form of an array.\n",
    "\n",
    "**Example 1:**\n",
    "Input: nums = [1,2,2,4]\n",
    "Output: [2,3]'''\n",
    "\n",
    "def find_error_nums(nums):\n",
    "    n = len(nums)\n",
    "    num_set = set()\n",
    "    duplicate = -1\n",
    "    \n",
    "    # Find the duplicate number\n",
    "    for num in nums:\n",
    "        if num in num_set:\n",
    "            duplicate = num\n",
    "            break\n",
    "        num_set.add(num)\n",
    "    \n",
    "    # Find the missing number\n",
    "    missing = (n * (n + 1) // 2) - sum(nums) + duplicate\n",
    "    \n",
    "    return [duplicate, missing]\n",
    "nums = [1, 2, 2, 4]\n",
    "\n",
    "result = find_error_nums(nums)\n",
    "print(result)  # Output: [2, 3]\n"
   ]
  },
  {
   "cell_type": "code",
   "execution_count": null,
   "id": "dd9630cb-5e71-432e-b706-01b5b222d57c",
   "metadata": {},
   "outputs": [],
   "source": []
  }
 ],
 "metadata": {
  "kernelspec": {
   "display_name": "Python 3 (ipykernel)",
   "language": "python",
   "name": "python3"
  },
  "language_info": {
   "codemirror_mode": {
    "name": "ipython",
    "version": 3
   },
   "file_extension": ".py",
   "mimetype": "text/x-python",
   "name": "python",
   "nbconvert_exporter": "python",
   "pygments_lexer": "ipython3",
   "version": "3.10.8"
  }
 },
 "nbformat": 4,
 "nbformat_minor": 5
}
